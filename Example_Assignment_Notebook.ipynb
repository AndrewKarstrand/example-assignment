{
  "nbformat": 4,
  "nbformat_minor": 0,
  "metadata": {
    "colab": {
      "name": "Example Assignment Notebook.ipynb",
      "provenance": [],
      "include_colab_link": true
    },
    "kernelspec": {
      "name": "python3",
      "display_name": "Python 3"
    }
  },
  "cells": [
    {
      "cell_type": "markdown",
      "metadata": {
        "id": "view-in-github",
        "colab_type": "text"
      },
      "source": [
        "<a href=\"https://colab.research.google.com/github/vu-bigdata-2020/example-assignment/blob/master/Example_Assignment_Notebook.ipynb\" target=\"_parent\"><img src=\"https://colab.research.google.com/assets/colab-badge.svg\" alt=\"Open In Colab\"/></a>"
      ]
    },
    {
      "cell_type": "markdown",
      "metadata": {
        "id": "UqmD7uXDwZZT",
        "colab_type": "text"
      },
      "source": [
        "**Welcome to the VU Big Data 2020 Example Assignment**\n",
        "\n",
        "Google colab provides an online platform for writing and running Python code. We will be using this platform to do many of the assignments throughtout the class.\n"
      ]
    },
    {
      "cell_type": "markdown",
      "metadata": {
        "id": "FKoi_-FWwzTQ",
        "colab_type": "text"
      },
      "source": [
        "For example, let's try writing and running a simple hello world program in Python."
      ]
    },
    {
      "cell_type": "code",
      "metadata": {
        "id": "ig7NP-Aww5Hj",
        "colab_type": "code",
        "colab": {
          "base_uri": "https://localhost:8080/",
          "height": 35
        },
        "outputId": "99d1fa0b-4edb-47e7-de50-ad7f7f954d95"
      },
      "source": [
        "print(\"Hello World!\")"
      ],
      "execution_count": 1,
      "outputs": [
        {
          "output_type": "stream",
          "text": [
            "Hello World!\n"
          ],
          "name": "stdout"
        }
      ]
    },
    {
      "cell_type": "markdown",
      "metadata": {
        "id": "Tak2cObsxEN4",
        "colab_type": "text"
      },
      "source": [
        "Anything that can be written in Python can also be written in these notebooks, which also provide space to annotate your code with other text like this."
      ]
    }
  ]
}
