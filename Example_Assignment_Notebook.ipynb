{
  "nbformat": 4,
  "nbformat_minor": 0,
  "metadata": {
    "colab": {
      "name": "Example Assignment Notebook.ipynb",
      "provenance": [],
      "include_colab_link": true
    },
    "kernelspec": {
      "name": "python3",
      "display_name": "Python 3"
    }
  },
  "cells": [
    {
      "cell_type": "markdown",
      "metadata": {
        "id": "view-in-github",
        "colab_type": "text"
      },
      "source": [
        "<a href=\"https://colab.research.google.com/github/vu-bigdata-2020/example-assignment/blob/master/Example_Assignment_Notebook.ipynb\" target=\"_parent\"><img src=\"https://colab.research.google.com/assets/colab-badge.svg\" alt=\"Open In Colab\"/></a>"
      ]
    },
    {
      "cell_type": "markdown",
      "metadata": {
        "id": "UqmD7uXDwZZT",
        "colab_type": "text"
      },
      "source": [
        "**Welcome to the VU Big Data 2020 Example Assignment**\n",
        "\n",
        "Google colab provides an online platform for writing and running Python code. We will be using this platform to do many of the assignments throughtout the class.\n"
      ]
    },
    {
      "cell_type": "markdown",
      "metadata": {
        "id": "FKoi_-FWwzTQ",
        "colab_type": "text"
      },
      "source": [
        "For example, let's try writing and running a simple hello world program in Python."
      ]
    },
    {
      "cell_type": "code",
      "metadata": {
        "id": "ig7NP-Aww5Hj",
        "colab_type": "code",
        "outputId": "a044386e-7246-4555-b600-945523e4f59d",
        "colab": {
          "base_uri": "https://localhost:8080/",
          "height": 34
        }
      },
      "source": [
        "import time\n",
        "print(\"Hello World! %s\"%(time.ctime()))"
      ],
      "execution_count": 3,
      "outputs": [
        {
          "output_type": "stream",
          "text": [
            "Hello World! Wed Jan  8 20:34:13 2020\n"
          ],
          "name": "stdout"
        }
      ]
    },
    {
      "cell_type": "markdown",
      "metadata": {
        "id": "Tak2cObsxEN4",
        "colab_type": "text"
      },
      "source": [
        "Anything that can be written in Python can also be written in these notebooks, which also provide space to annotate your code with other text like this."
      ]
    }
  ]
}